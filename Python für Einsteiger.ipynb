{
 "cells": [
  {
   "cell_type": "markdown",
   "metadata": {},
   "source": [
    "# Einführung\n",
    "Eine kurze Einführung in Python von Alexander Schütz"
   ]
  },
  {
   "cell_type": "markdown",
   "metadata": {},
   "source": [
    "Python ist eine Programmiersprache, die von Guido van Rossum in den späten 1980er Jahren entwickelt wurde. Python ist einfach zu lernen und zu lesen, was es zu einer beliebten Sprache für Anfänger und Experten gleichermaßen macht. Python wird in vielen Bereichen eingesetzt, einschließlich Webentwicklung, Datenanalyse, künstlicher Intelligenz und wissenschaftlicher Berechnungen."
   ]
  },
  {
   "cell_type": "markdown",
   "metadata": {},
   "source": [
    "# Grundlagen\n",
    "Das ist ein einfaches Python Programm"
   ]
  },
  {
   "cell_type": "code",
   "execution_count": null,
   "metadata": {},
   "outputs": [],
   "source": [
    "# Grundlagen von Python\n",
    "\n",
    "# Kommentare können mit einem Hashtag (#) beginnen und werden vom Interpreter ignoriert\n",
    "# Kommentare sind nützlich, um den Code zu dokumentieren und zu erklären, was er tut\n",
    "\n",
    "# Hier ist ein Beispiel für einen Kommentar\n",
    "# Dieser Code gibt \"Hallo Welt!\" aus\n",
    "print(\"Hallo Welt!\")"
   ]
  },
  {
   "cell_type": "markdown",
   "metadata": {},
   "source": [
    "# Variablen und Datentypen\n",
    "Wie man Variablen in Python deklariert und welche Datentypen es gibt."
   ]
  },
  {
   "cell_type": "code",
   "execution_count": null,
   "metadata": {},
   "outputs": [],
   "source": [
    "# Variablen und Datentypen\n",
    "\n",
    "# Variablen sind Container, die Werte speichern können\n",
    "# In Python müssen Variablen nicht deklariert werden, sie werden automatisch erstellt, wenn ihnen ein Wert zugewiesen wird\n",
    "\n",
    "# Hier ist ein Beispiel für eine Variable\n",
    "x = 5\n",
    "print(x)\n",
    "\n",
    "# In Python gibt es verschiedene Datentypen, darunter:\n",
    "# - Integer (ganze Zahlen)\n",
    "# - Float (Dezimalzahlen)\n",
    "# - String (Zeichenketten)\n",
    "# - Boolean (Wahrheitswerte True oder False)\n",
    "\n",
    "# Hier sind Beispiele für jeden Datentyp\n",
    "a = 42 # Integer\n",
    "b = 3.14 # Float\n",
    "c = \"Hallo\" # String\n",
    "d = True # Boolean\n",
    "\n",
    "# Man kann den Datentyp einer Variable mit der Funktion type() überprüfen\n",
    "print(type(a))\n",
    "print(type(b))\n",
    "print(type(c))\n",
    "print(type(d))"
   ]
  },
  {
   "cell_type": "markdown",
   "metadata": {},
   "source": [
    "# Mathematik und Operationen\n",
    "Wie man Mathematik und Operationen benutzt"
   ]
  },
  {
   "cell_type": "code",
   "execution_count": null,
   "metadata": {},
   "outputs": [],
   "source": [
    "#Operationen ermögliche es uns in Python berechnungen durchzuführen\n",
    "#dafür gibt es verschiedene Operatoren, die man verwenden kann\n",
    "\n",
    "# Grundlegende mathematische Operationen\n",
    "a = 10\n",
    "b = 5\n",
    "\n",
    "# Addition\n",
    "sum_result = a + b\n",
    "print(\"Addition:\", sum_result)\n",
    "\n",
    "# Subtraktion\n",
    "subtraction_result = a - b\n",
    "print(\"Subtraktion:\", subtraction_result)\n",
    "\n",
    "# Multiplikation\n",
    "multiplication_result = a * b\n",
    "print(\"Multiplikation:\", multiplication_result)\n",
    "\n",
    "# Division (Gleitkommadivision)\n",
    "division_result = a / b\n",
    "print(\"Division:\", division_result)\n",
    "\n",
    "# Ganzzahldivision (abrunden)\n",
    "integer_division_result = a // b\n",
    "print(\"Ganzzahldivision:\", integer_division_result)\n",
    "\n",
    "# Modulo (Rest bei der Division)\n",
    "modulo_result = a % b\n",
    "print(\"Modulo:\", modulo_result)\n",
    "\n",
    "# Potenzierung\n",
    "power_result = a ** b\n",
    "print(\"Potenzierung:\", power_result)\n"
   ]
  },
  {
   "cell_type": "markdown",
   "metadata": {},
   "source": [
    "# Bedingungen\n",
    "Wie man Bedingungen in Python schreibt, einschließlich if-else-Anweisungen."
   ]
  },
  {
   "cell_type": "code",
   "execution_count": null,
   "metadata": {},
   "outputs": [],
   "source": [
    "# Bedingungen\n",
    "\n",
    "# Bedingungen ermöglichen es uns, Code auszuführen, wenn eine bestimmte Bedingung erfüllt ist\n",
    "# Die grundlegende Syntax für eine Bedingung ist \"if\", gefolgt von der Bedingung und einem Doppelpunkt\n",
    "# Der Code, der ausgeführt werden soll, wenn die Bedingung wahr ist, wird eingerückt\n",
    "#es gibt unterschiedliche Bedingungszeichen:\n",
    "# == (gleich)\n",
    "# != (ungleich)\n",
    "# < (kleiner)\n",
    "# > (größer)\n",
    "# <= (kleiner gleich)\n",
    "# >= (größer gleich)\n",
    "#\n",
    "#und noch ein paar mehr\n",
    "\n",
    "# Hier ist ein Beispiel für eine Bedingung\n",
    "if 5 > 2:\n",
    "    print(\"Fünf ist größer als zwei\")\n",
    "\n",
    "# Man kann auch eine \"else\"-Anweisung hinzufügen, die ausgeführt wird, wenn die Bedingung falsch ist\n",
    "# Hier ist ein Beispiel für eine Bedingung mit \"else\"\n",
    "if 5 < 2:\n",
    "    print(\"Fünf ist kleiner als zwei\")\n",
    "else:\n",
    "    print(\"Fünf ist nicht kleiner als zwei\")\n",
    "\n",
    "# Man kann auch mehrere Bedingungen mit \"elif\" hinzufügen\n",
    "# Hier ist ein Beispiel für eine Bedingung mit \"elif\"\n",
    "x = 5\n",
    "if x < 0:\n",
    "    print(\"x ist negativ\")\n",
    "elif x == 0:\n",
    "    print(\"x ist null\")\n",
    "else:\n",
    "    print(\"x ist positiv\")"
   ]
  },
  {
   "cell_type": "markdown",
   "metadata": {},
   "source": [
    "# Listen\n",
    "Wie man Listen in Python erstellt und bearbeitet."
   ]
  },
  {
   "cell_type": "code",
   "execution_count": null,
   "metadata": {},
   "outputs": [],
   "source": [
    "# Listen sind eine Sammlung von Elementen, die in einer bestimmten Reihenfolge angeordnet sind\n",
    "# Listen werden mit eckigen Klammern erstellt und die Elemente werden durch Kommas getrennt\n",
    "\n",
    "# Hier ist ein Beispiel für eine Liste von Zahlen\n",
    "zahlen = [1, 2, 3, 4, 5]\n",
    "print(zahlen)\n",
    "\n",
    "# Man kann auch eine Liste von Strings erstellen\n",
    "fruits = [\"Apfel\", \"Banane\", \"Kirsche\"]\n",
    "print(fruits)\n",
    "\n",
    "# Man kann auf die Elemente einer Liste zugreifen, indem man ihren Index angibt\n",
    "# Der Index beginnt bei 0 für das erste Element und erhöht sich um 1 für jedes weitere Element\n",
    "print(fruits[0]) # gibt \"Apfel\" aus\n",
    "print(fruits[1]) # gibt \"Banane\" aus\n",
    "print(fruits[2]) # gibt \"Kirsche\" aus\n",
    "\n",
    "# Man kann auch auf die Elemente einer Liste von hinten zugreifen, indem man negative Indizes verwendet\n",
    "# Der Index -1 gibt das letzte Element zurück, -2 das vorletzte usw.\n",
    "print(fruits[-1]) # gibt \"Kirsche\" aus\n",
    "print(fruits[-2]) # gibt \"Banane\" aus\n",
    "print(fruits[-3]) # gibt \"Apfel\" aus\n",
    "\n",
    "# Man kann die Elemente einer Liste ändern, indem man ihren Index angibt und einen neuen Wert zuweist\n",
    "fruits[1] = \"Orange\"\n",
    "print(fruits) # gibt [\"Apfel\", \"Orange\", \"Kirsche\"] aus\n",
    "\n",
    "# Man kann auch Elemente zu einer Liste hinzufügen, indem man die Methode append() verwendet\n",
    "fruits.append(\"Erdbeere\")\n",
    "print(fruits) # gibt [\"Apfel\", \"Orange\", \"Kirsche\", \"Erdbeere\"] aus\n",
    "\n",
    "# Man kann auch Elemente aus einer Liste entfernen, indem man die Methode remove() verwendet\n",
    "fruits.remove(\"Orange\")\n",
    "print(fruits) # gibt [\"Apfel\", \"Kirsche\", \"Erdbeere\"] aus"
   ]
  },
  {
   "cell_type": "markdown",
   "metadata": {},
   "source": [
    "# Dictionaries\n",
    "Wie man Dictionaries in Python erstellt und bearbeitet."
   ]
  },
  {
   "cell_type": "code",
   "execution_count": null,
   "metadata": {},
   "outputs": [],
   "source": [
    "# Dictionaries sind eine Sammlung von Schlüssel-Wert-Paaren\n",
    "# Jeder Schlüssel muss eindeutig sein und auf einen Wert verweisen\n",
    "# Dictionaries werden mit geschweiften Klammern erstellt und die Schlüssel-Wert-Paare werden durch Kommas getrennt\n",
    "# Der Schlüssel und der Wert werden durch einen Doppelpunkt getrennt\n",
    "\n",
    "# Hier ist ein Beispiel für ein Dictionary von Personen\n",
    "personen = {\"Max\": 25, \"Anna\": 30, \"Peter\": 40}\n",
    "print(personen)\n",
    "\n",
    "# Man kann auf den Wert eines Schlüssels zugreifen, indem man den Schlüssel angibt\n",
    "print(personen[\"Max\"]) # gibt 25 aus\n",
    "\n",
    "# Man kann auch den Wert eines Schlüssels ändern, indem man den Schlüssel angibt und einen neuen Wert zuweist\n",
    "personen[\"Max\"] = 26\n",
    "print(personen) # gibt {\"Max\": 26, \"Anna\": 30, \"Peter\": 40} aus\n",
    "\n",
    "# Man kann auch ein neues Schlüssel-Wert-Paar hinzufügen, indem man den Schlüssel angibt und einen neuen Wert zuweist\n",
    "personen[\"Lisa\"] = 35\n",
    "print(personen) # gibt {\"Max\": 26, \"Anna\": 30, \"Peter\": 40, \"Lisa\": 35} aus\n",
    "\n",
    "# Man kann auch ein Schlüssel-Wert-Paar aus einem Dictionary entfernen, indem man den Schlüssel angibt\n",
    "del personen[\"Peter\"]\n",
    "print(personen) # gibt {\"Max\": 26, \"Anna\": 30, \"Lisa\": 35} aus"
   ]
  },
  {
   "cell_type": "markdown",
   "metadata": {},
   "source": [
    "# Schleifen\n",
    "Wie man Schleifen in Python schreibt, einschließlich for- und while-Schleifen."
   ]
  },
  {
   "cell_type": "code",
   "execution_count": null,
   "metadata": {},
   "outputs": [],
   "source": [
    "# Schleifen\n",
    "\n",
    "# Schleifen ermöglichen es uns, Code mehrmals auszuführen\n",
    "# Es gibt zwei Arten von Schleifen in Python: for-Schleifen und while-Schleifen\n",
    "\n",
    "# Eine for-Schleife wird verwendet, um über eine Sequenz von Elementen zu iterieren\n",
    "# Die grundlegende Syntax für eine for-Schleife ist \"for\", gefolgt von einer Variable, dem Schlüsselwort \"in\", der Sequenz und einem Doppelpunkt\n",
    "# Der Code, der in jeder Iteration ausgeführt werden soll, wird eingerückt\n",
    "\n",
    "# Hier ist ein Beispiel für eine for-Schleife\n",
    "fruits = [\"Apfel\", \"Banane\", \"Kirsche\"]\n",
    "for fruit in fruits:\n",
    "    print(fruit)\n",
    "\n",
    "# Eine while-Schleife wird verwendet, um Code auszuführen, solange eine Bedingung wahr ist\n",
    "# Die grundlegende Syntax für eine while-Schleife ist \"while\", gefolgt von der Bedingung und einem Doppelpunkt\n",
    "# Der Code, der in jeder Iteration ausgeführt werden soll, wird eingerückt\n",
    "\n",
    "# Hier ist ein Beispiel für eine while-Schleife\n",
    "i = 1\n",
    "while i < 6:\n",
    "    print(i)\n",
    "    i += 1\n",
    "\n",
    "# Achte darauf, dass die Bedingung irgendwann falsch wird, sonst wird die Schleife unendlich ausgeführt"
   ]
  },
  {
   "cell_type": "markdown",
   "metadata": {},
   "source": [
    "# Funktionen\n",
    "Wie man Funktionen in Python definiert und aufruft."
   ]
  },
  {
   "cell_type": "code",
   "execution_count": 13,
   "metadata": {},
   "outputs": [
    {
     "name": "stdout",
     "output_type": "stream",
     "text": [
      "8\n"
     ]
    }
   ],
   "source": [
    "# Funktionen ermöglichen es uns, Code zu organisieren und wiederverwendbar zu machen\n",
    "# Eine Funktion wird definiert mit dem Schlüsselwort \"def\", gefolgt vom Funktionsnamen, den Argumenten in Klammern und einem Doppelpunkt\n",
    "# Der Code, der in der Funktion ausgeführt werden soll, wird eingerückt\n",
    "# Eine Funktion kann einen Wert zurückgeben mit dem Schlüsselwort \"return\"\n",
    "\n",
    "# Hier ist ein Beispiel für eine Funktion, die die Summe von zwei Zahlen berechnet\n",
    "def addiere(zahl1, zahl2):\n",
    "    summe = zahl1 + zahl2\n",
    "    return summe\n",
    "\n",
    "# Man ruft eine Funktion auf, indem man ihren Namen und die Argumente in Klammern angibt\n",
    "# Hier ist ein Beispiel für den Aufruf der Funktion addiere\n",
    "ergebnis = addiere(3, 5)\n",
    "print(ergebnis) # gibt 8 aus"
   ]
  },
  {
   "cell_type": "markdown",
   "metadata": {},
   "source": [
    "# Module und Pakete\n",
    "Wie man Module und Pakete in Python importiert und verwendet."
   ]
  },
  {
   "cell_type": "code",
   "execution_count": null,
   "metadata": {},
   "outputs": [],
   "source": [
    "# Module und Pakete\n",
    "\n",
    "# In Python können wir Code in Module und Pakete organisieren, um ihn wiederverwendbar zu machen\n",
    "# Ein Modul ist eine Datei mit Python-Code, die Funktionen, Klassen und Variablen enthält\n",
    "# Ein Paket ist ein Verzeichnis, das Module und andere Pakete enthalten kann\n",
    "\n",
    "# Um ein Modul in Python zu importieren, verwenden wir das Schlüsselwort \"import\", gefolgt vom Modulnamen\n",
    "# Hier ist ein Beispiel für den Import des Moduls \"math\"\n",
    "import math\n",
    "\n",
    "# Wir können nun auf die Funktionen und Variablen des Moduls \"math\" zugreifen\n",
    "print(math.pi) # gibt die Kreiszahl Pi aus\n",
    "\n",
    "# Wir können auch nur bestimmte Funktionen oder Variablen aus einem Modul importieren, indem wir sie mit Kommas getrennt angeben\n",
    "from math import sqrt, pow\n",
    "\n",
    "# Wir können nun auf die Funktionen \"sqrt\" und \"pow\" zugreifen, ohne den Modulnamen \"math\" zu verwenden\n",
    "print(sqrt(16)) # gibt 4.0 aus\n",
    "print(pow(2, 3)) # gibt 8.0 aus\n",
    "\n",
    "# Wenn wir ein Modul mit einem anderen Namen importieren möchten, können wir es mit dem Schlüsselwort \"as\" umbenennen\n",
    "import math as m\n",
    "print(m.pi) # gibt die Kreiszahl Pi aus\n",
    "\n",
    "# Um ein Paket in Python zu importieren, verwenden wir das Schlüsselwort \"import\", gefolgt vom Paketnamen\n",
    "# Hier ist ein Beispiel für den Import des Pakets \"os\"\n",
    "import os\n",
    "\n",
    "# Wir können nun auf die Funktionen und Variablen des Pakets \"os\" zugreifen\n",
    "print(os.getcwd()) # gibt das aktuelle Arbeitsverzeichnis aus\n",
    "\n",
    "# Wir können auch nur bestimmte Module aus einem Paket importieren, indem wir sie mit Kommas getrennt angeben\n",
    "from os import path, listdir\n",
    "\n",
    "# Wir können nun auf die Module \"path\" und \"listdir\" zugreifen, ohne den Paketnamen \"os\" zu verwenden\n",
    "print(path.abspath(\"test.txt\")) # gibt den absoluten Pfad der Datei \"test.txt\" aus\n",
    "print(listdir(\".\")) # gibt eine Liste der Dateien im aktuellen Verzeichnis aus\n",
    "\n",
    "# Wenn wir ein Paket mit einem anderen Namen importieren möchten, können wir es mit dem Schlüsselwort \"as\" umbenennen\n",
    "import os as o\n",
    "print(o.getcwd()) # gibt das aktuelle Arbeitsverzeichnis aus"
   ]
  },
  {
   "cell_type": "markdown",
   "metadata": {},
   "source": [
    "# Dateien lesen und schreiben\n",
    "Wie man Dateien in Python öffnet, liest und schreibt."
   ]
  },
  {
   "cell_type": "code",
   "execution_count": null,
   "metadata": {},
   "outputs": [],
   "source": [
    "# Dateien lesen und schreiben\n",
    "\n",
    "# Um eine Datei in Python zu öffnen, verwenden wir die Funktion open()\n",
    "# Die Funktion benötigt den Dateinamen und den Modus, in dem die Datei geöffnet werden soll\n",
    "# Der Modus kann \"r\" für Lesen, \"w\" für Schreiben oder \"a\" für Anhängen sein\n",
    "# Wenn der Modus nicht angegeben wird, wird standardmäßig \"r\" verwendet\n",
    "\n",
    "# Hier ist ein Beispiel für das Öffnen einer Datei zum Lesen\n",
    "datei = open(\"test.txt\", \"r\")\n",
    "\n",
    "# Wir können nun auf den Inhalt der Datei zugreifen, indem wir die Methode read() verwenden\n",
    "inhalt = datei.read()\n",
    "print(inhalt)\n",
    "\n",
    "# Wir sollten die Datei immer schließen, wenn wir fertig sind\n",
    "datei.close()\n",
    "\n",
    "# Hier ist ein Beispiel für das Öffnen einer Datei zum Schreiben\n",
    "datei = open(\"neue_datei.txt\", \"w\")\n",
    "\n",
    "# Wir können nun in die Datei schreiben, indem wir die Methode write() verwenden\n",
    "datei.write(\"Dies ist ein Beispieltext.\")\n",
    "\n",
    "# Wir sollten die Datei immer schließen, wenn wir fertig sind\n",
    "datei.close()\n",
    "\n",
    "# Hier ist ein Beispiel für das Öffnen einer Datei zum Anhängen\n",
    "datei = open(\"bestehende_datei.txt\", \"a\")\n",
    "\n",
    "# Wir können nun in die Datei schreiben, indem wir die Methode write() verwenden\n",
    "datei.write(\"Dies ist ein weiterer Beispieltext.\")\n",
    "\n",
    "# Wir sollten die Datei immer schließen, wenn wir fertig sind\n",
    "datei.close()"
   ]
  },
  {
   "cell_type": "markdown",
   "metadata": {},
   "source": [
    "# Taschenrechner\n",
    "Jetzt packen wir alles zusammen und erstellen einen einfachen Taschenrechner"
   ]
  },
  {
   "cell_type": "code",
   "execution_count": null,
   "metadata": {},
   "outputs": [],
   "source": [
    "# Taschenrechner App\n",
    "\n",
    "# Zuerst definieren wir eine Funktion, die zwei Zahlen addiert\n",
    "def addieren(x, y):\n",
    "    return x + y\n",
    "\n",
    "# Dann definieren wir eine Funktion, die zwei Zahlen subtrahiert\n",
    "def subtrahieren(x, y):\n",
    "    return x - y\n",
    "\n",
    "# Dann definieren wir eine Funktion, die zwei Zahlen multipliziert\n",
    "def multiplizieren(x, y):\n",
    "    return x * y\n",
    "\n",
    "# Dann definieren wir eine Funktion, die zwei Zahlen dividiert\n",
    "def dividieren(x, y):\n",
    "    if y == 0:\n",
    "        return \"Division durch Null nicht möglich\"\n",
    "    else:\n",
    "        return x / y\n",
    "\n",
    "# Nun fragen wir den Benutzer nach der gewünschten Operation und den beiden Zahlen\n",
    "print(\"Welche Operation möchtest du durchführen?\")\n",
    "print(\"1. Addieren\")\n",
    "print(\"2. Subtrahieren\")\n",
    "print(\"3. Multiplizieren\")\n",
    "print(\"4. Dividieren\")\n",
    "\n",
    "# Wir lesen die Eingabe des Benutzers ein und konvertieren sie in eine Ganzzahl\n",
    "wahl = int(input(\"Deine Wahl (1/2/3/4): \"))\n",
    "\n",
    "# Wir lesen die Eingabe des Benutzers für die beiden Zahlen ein und konvertieren sie in Gleitkommazahlen\n",
    "zahl1 = float(input(\"Erste Zahl: \"))\n",
    "zahl2 = float(input(\"Zweite Zahl: \"))\n",
    "\n",
    "# Wir führen die gewünschte Operation aus, indem wir die entsprechende Funktion aufrufen\n",
    "if wahl == 1:\n",
    "    print(zahl1, \"+\", zahl2, \"=\", addieren(zahl1, zahl2))\n",
    "\n",
    "elif wahl == 2:\n",
    "    print(zahl1, \"-\", zahl2, \"=\", subtrahieren(zahl1, zahl2))\n",
    "\n",
    "elif wahl == 3:\n",
    "    print(zahl1, \"*\", zahl2, \"=\", multiplizieren(zahl1, zahl2))\n",
    "\n",
    "elif wahl == 4:\n",
    "    print(zahl1, \"/\", zahl2, \"=\", dividieren(zahl1, zahl2))\n",
    "\n",
    "else:\n",
    "    print(\"Ungültige Eingabe\")\n"
   ]
  },
  {
   "cell_type": "markdown",
   "metadata": {},
   "source": [
    "**Vielen Dank fürs lesen\n",
    "Alexander Schütz**"
   ]
  }
 ],
 "metadata": {
  "kernelspec": {
   "display_name": "Python 3",
   "language": "python",
   "name": "python3"
  },
  "language_info": {
   "codemirror_mode": {
    "name": "ipython",
    "version": 3
   },
   "file_extension": ".py",
   "mimetype": "text/x-python",
   "name": "python",
   "nbconvert_exporter": "python",
   "pygments_lexer": "ipython3",
   "version": "3.11.5"
  },
  "orig_nbformat": 4
 },
 "nbformat": 4,
 "nbformat_minor": 2
}
